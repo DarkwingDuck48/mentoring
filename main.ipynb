{
 "cells": [
  {
   "cell_type": "markdown",
   "id": "5b88b6f4",
   "metadata": {},
   "source": [
    "# Lambda функции и их применение"
   ]
  },
  {
   "cell_type": "code",
   "execution_count": null,
   "id": "86206190",
   "metadata": {},
   "outputs": [],
   "source": [
    "def square_def(x):\n",
    "    return x ** 2\n",
    "\n",
    "print(square_def(5))\n",
    "\n",
    "\n",
    "square_lambda = lambda x: x ** 2  # noqa: E731\n",
    "\n",
    "print(square_lambda(5)) # Вывод: 25"
   ]
  },
  {
   "cell_type": "markdown",
   "id": "cecb323e",
   "metadata": {},
   "source": [
    "Lambda функции применяются там, где функция применяется лишь однажды и больше нигде."
   ]
  },
  {
   "cell_type": "code",
   "execution_count": null,
   "id": "85818de5",
   "metadata": {},
   "outputs": [],
   "source": [
    "students = [\n",
    "    {'name': 'Alice', 'grade': 90},\n",
    "    {'name': 'Bob', 'grade': 85},\n",
    "    {'name': 'Charlie', 'grade': 95}\n",
    "]\n",
    "\n",
    "sorted_students = sorted(students, key=lambda student: student['grade'])\n",
    "print(sorted_students)"
   ]
  },
  {
   "cell_type": "code",
   "execution_count": null,
   "id": "dedcce1a",
   "metadata": {},
   "outputs": [],
   "source": [
    "words = ['apple', 'banana', 'cherry']\n",
    "sorted_by_last_letter = sorted(words, key=lambda word: word[-1])\n",
    "print(sorted_by_last_letter)"
   ]
  },
  {
   "cell_type": "code",
   "execution_count": null,
   "id": "c56bcdfd",
   "metadata": {},
   "outputs": [],
   "source": [
    "numbers = [1, 2, 3, 4, 5, 6]\n",
    "even_numbers = list(filter(lambda x: x % 2 == 0, numbers))\n",
    "print(even_numbers)\n",
    "\n",
    "\n",
    "squares = list(map(lambda x: x ** 2, numbers))\n",
    "print(squares)"
   ]
  }
 ],
 "metadata": {
  "language_info": {
   "name": "python"
  }
 },
 "nbformat": 4,
 "nbformat_minor": 5
}
