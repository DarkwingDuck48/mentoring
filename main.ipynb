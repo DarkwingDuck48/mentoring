{
 "cells": [
  {
   "cell_type": "markdown",
   "id": "020b90dc",
   "metadata": {},
   "source": [
    "# Декораторы и их объяснение"
   ]
  },
  {
   "cell_type": "markdown",
   "id": "c9ba6ee3",
   "metadata": {},
   "source": [
    "## Базовые концепции для начала понимания"
   ]
  },
  {
   "cell_type": "code",
   "execution_count": null,
   "id": "67cb3cdf",
   "metadata": {},
   "outputs": [
    {
     "name": "stdout",
     "output_type": "stream",
     "text": [
      "Hello, Alice!\n"
     ]
    }
   ],
   "source": [
    "# 1. Функции можно присваивать переменным\n",
    "def greet(name):\n",
    "    return f\"Hello, {name}!\"\n",
    "\n",
    "my_function = greet\n",
    "print(my_function(\"Alice\"))  # \"Hello, Alice!\"\n"
   ]
  },
  {
   "cell_type": "code",
   "execution_count": 23,
   "id": "9b7f8ca9",
   "metadata": {},
   "outputs": [
    {
     "name": "stdout",
     "output_type": "stream",
     "text": [
      "Hello, Bob! Hello, Bob!\n"
     ]
    }
   ],
   "source": [
    "# 2. Функции можно передавать как аргументы\n",
    "def call_twice(func, arg):\n",
    "    \"\"\"Вызывает функцию дважды с одним аргументом\"\"\"\n",
    "    return func(arg) + \" \" + func(arg)\n",
    "\n",
    "result = call_twice(greet, \"Bob\")\n",
    "print(result)"
   ]
  },
  {
   "cell_type": "markdown",
   "id": "f775d1e9",
   "metadata": {},
   "source": [
    "Замыкания"
   ]
  },
  {
   "cell_type": "code",
   "execution_count": null,
   "id": "23bb3091",
   "metadata": {},
   "outputs": [
    {
     "name": "stdout",
     "output_type": "stream",
     "text": [
      "Hello, Charlie!\n",
      "Content: Hello\n"
     ]
    }
   ],
   "source": [
    "# 3. Функции можно возвращать из функций\n",
    "def create_greeter(greeting):\n",
    "    def greeter(name):\n",
    "        return f\"{greeting}, {name}!\"\n",
    "    return greeter\n",
    "\n",
    "hello = create_greeter(\"Hello\")\n",
    "print(hello(\"Charlie\"))\n",
    "print(f\"Content: {hello.__closure__[0].cell_contents}\")\n",
    "\n"
   ]
  },
  {
   "cell_type": "markdown",
   "id": "a491a02a",
   "metadata": {},
   "source": [
    "## Концепция декоратора"
   ]
  },
  {
   "cell_type": "code",
   "execution_count": 27,
   "id": "8a88d270",
   "metadata": {},
   "outputs": [
    {
     "name": "stdout",
     "output_type": "stream",
     "text": [
      "Что-то происходит перед вызовом функции\n",
      "Hello!\n",
      "Что-то происходит после вызова функции\n"
     ]
    }
   ],
   "source": [
    "def my_decorator(func):\n",
    "    def wrapper():\n",
    "        print(\"Что-то происходит перед вызовом функции\")\n",
    "        func()\n",
    "        print(\"Что-то происходит после вызова функции\")\n",
    "    return wrapper\n",
    "\n",
    "@my_decorator\n",
    "def say_hello():\n",
    "    print(\"Hello!\")\n",
    "\n",
    "# Эквивалентно: say_hello = my_decorator(say_hello)\n",
    "\n",
    "say_hello()"
   ]
  },
  {
   "cell_type": "markdown",
   "id": "db7556bd",
   "metadata": {},
   "source": [
    "### Передача аргументов в декоратор"
   ]
  },
  {
   "cell_type": "code",
   "execution_count": null,
   "id": "b5003f36",
   "metadata": {},
   "outputs": [],
   "source": [
    "from functools import wraps\n",
    "\n",
    "\n",
    "def repeat(num_times):\n",
    "    \"\"\"Декоратор, который повторяет вызов функции заданное количество раз\"\"\"\n",
    "    def decorator(func):\n",
    "        @wraps(func)\n",
    "        def wrapper(*args, **kwargs):\n",
    "            results = []\n",
    "            for _ in range(num_times):\n",
    "                result = func(*args, **kwargs)\n",
    "                results.append(result)\n",
    "            return results\n",
    "        return wrapper\n",
    "    return decorator\n",
    "\n",
    "@repeat(num_times=3)\n",
    "def greet(name):\n",
    "    return f\"Hello, {name}!\"\n",
    "\n",
    "print(greet(\"Alice\"))"
   ]
  },
  {
   "cell_type": "code",
   "execution_count": null,
   "id": "998d1916",
   "metadata": {},
   "outputs": [
    {
     "name": "stdout",
     "output_type": "stream",
     "text": [
      "<b><i>Hello, World!</i></b>\n"
     ]
    }
   ],
   "source": [
    "def bold(func):\n",
    "    def wrapper():\n",
    "        return \"<b>\" + func() + \"</b>\"\n",
    "    return wrapper\n",
    "\n",
    "def italic(func):\n",
    "    def wrapper():\n",
    "        return \"<i>\" + func() + \"</i>\"\n",
    "    return wrapper\n",
    "\n",
    "@bold\n",
    "@italic\n",
    "def hello():\n",
    "    return \"Hello, World!\"\n",
    "\n",
    "print(hello())"
   ]
  },
  {
   "cell_type": "markdown",
   "id": "ec1f1f46",
   "metadata": {},
   "source": [
    "## Примеры декораторов из практики"
   ]
  },
  {
   "cell_type": "markdown",
   "id": "d73988d8",
   "metadata": {},
   "source": [
    "### Измерение времени работы"
   ]
  },
  {
   "cell_type": "code",
   "execution_count": 29,
   "id": "c636b222",
   "metadata": {},
   "outputs": [
    {
     "name": "stdout",
     "output_type": "stream",
     "text": [
      "Функция slow_function выполнилась за 2.0051 секунд\n",
      "Готово!\n"
     ]
    }
   ],
   "source": [
    "import time\n",
    "from functools import wraps\n",
    "\n",
    "def timer(func):\n",
    "    \"\"\"Декоратор, который измеряет время выполнения функции\"\"\"\n",
    "    @wraps(func)  # Сохраняем метаданные оригинальной функции\n",
    "    def wrapper(*args, **kwargs):\n",
    "        start_time = time.time()\n",
    "        result = func(*args, **kwargs)\n",
    "        end_time = time.time()\n",
    "        print(f\"Функция {func.__name__} выполнилась за {end_time - start_time:.4f} секунд\")\n",
    "        return result\n",
    "    return wrapper\n",
    "\n",
    "@timer\n",
    "def slow_function():\n",
    "    \"\"\"Функция, которая имитирует долгую операцию\"\"\"\n",
    "    time.sleep(2)\n",
    "    return \"Готово!\"\n",
    "\n",
    "print(slow_function())"
   ]
  },
  {
   "cell_type": "markdown",
   "id": "780c7074",
   "metadata": {},
   "source": [
    "### Логгирование функции"
   ]
  },
  {
   "cell_type": "code",
   "execution_count": 30,
   "id": "487bb33c",
   "metadata": {},
   "outputs": [
    {
     "name": "stdout",
     "output_type": "stream",
     "text": [
      "Вызов функции: calculate\n",
      "Аргументы: args=(5, 3), kwargs={'operation': 'multiply'}\n",
      "Результат: 15\n"
     ]
    },
    {
     "data": {
      "text/plain": [
       "15"
      ]
     },
     "execution_count": 30,
     "metadata": {},
     "output_type": "execute_result"
    }
   ],
   "source": [
    "from functools import wraps\n",
    "\n",
    "def logger(func):\n",
    "    \"\"\"Декоратор для логирования вызовов функции\"\"\"\n",
    "    @wraps(func)\n",
    "    def wrapper(*args, **kwargs):\n",
    "        print(f\"Вызов функции: {func.__name__}\")\n",
    "        print(f\"Аргументы: args={args}, kwargs={kwargs}\")\n",
    "        result = func(*args, **kwargs)\n",
    "        print(f\"Результат: {result}\")\n",
    "        return result\n",
    "    return wrapper\n",
    "\n",
    "@logger\n",
    "def calculate(a, b, operation='add'):\n",
    "    if operation == 'add':\n",
    "        return a + b\n",
    "    elif operation == 'multiply':\n",
    "        return a * b\n",
    "\n",
    "calculate(5, 3, operation='multiply')"
   ]
  },
  {
   "cell_type": "markdown",
   "id": "cb626d3b",
   "metadata": {},
   "source": [
    "### Кеширование функции"
   ]
  },
  {
   "cell_type": "markdown",
   "id": "348973f6",
   "metadata": {},
   "source": [
    "Есть отдельный декоратор в Python, однако бывают случаи, когда нужно реализовать кастомную логику"
   ]
  },
  {
   "cell_type": "code",
   "execution_count": 31,
   "id": "5f421534",
   "metadata": {},
   "outputs": [
    {
     "name": "stdout",
     "output_type": "stream",
     "text": [
      "Вычисляем результат для (10,)\n",
      "Вычисляем результат для (9,)\n",
      "Вычисляем результат для (8,)\n",
      "Вычисляем результат для (7,)\n",
      "Вычисляем результат для (6,)\n",
      "Вычисляем результат для (5,)\n",
      "Вычисляем результат для (4,)\n",
      "Вычисляем результат для (3,)\n",
      "Вычисляем результат для (2,)\n",
      "Вычисляем результат для (1,)\n",
      "Вычисляем результат для (0,)\n",
      "Возвращаем кэшированный результат для (1,)\n",
      "Возвращаем кэшированный результат для (2,)\n",
      "Возвращаем кэшированный результат для (3,)\n",
      "Возвращаем кэшированный результат для (4,)\n",
      "Возвращаем кэшированный результат для (5,)\n",
      "Возвращаем кэшированный результат для (6,)\n",
      "Возвращаем кэшированный результат для (7,)\n",
      "Возвращаем кэшированный результат для (8,)\n",
      "55\n"
     ]
    }
   ],
   "source": [
    "from functools import wraps\n",
    "\n",
    "def cache(func):\n",
    "    \"\"\"Декоратор для кэширования результатов функции\"\"\"\n",
    "    cache_dict = {}\n",
    "    \n",
    "    @wraps(func)\n",
    "    def wrapper(*args):\n",
    "        if args in cache_dict:\n",
    "            print(f\"Возвращаем кэшированный результат для {args}\")\n",
    "            return cache_dict[args]\n",
    "        else:\n",
    "            print(f\"Вычисляем результат для {args}\")\n",
    "            result = func(*args)\n",
    "            cache_dict[args] = result\n",
    "            return result\n",
    "    return wrapper\n",
    "\n",
    "@cache\n",
    "def fibonacci(n):\n",
    "    \"\"\"Вычисляет n-ное число Фибоначчи\"\"\"\n",
    "    if n < 2:\n",
    "        return n\n",
    "    return fibonacci(n-1) + fibonacci(n-2)\n",
    "\n",
    "print(fibonacci(10))"
   ]
  },
  {
   "cell_type": "markdown",
   "id": "969b14c5",
   "metadata": {},
   "source": [
    "### Нестандартный способ создания декоратора"
   ]
  },
  {
   "cell_type": "code",
   "execution_count": 32,
   "id": "1daac483",
   "metadata": {},
   "outputs": [
    {
     "name": "stdout",
     "output_type": "stream",
     "text": [
      "Вызов #1 функции say_hello\n",
      "Hello!\n",
      "Вызов #2 функции say_hello\n",
      "Hello!\n",
      "Всего вызовов: 2\n"
     ]
    }
   ],
   "source": [
    "from functools import wraps\n",
    "\n",
    "\n",
    "class CountCalls:\n",
    "    \"\"\"Декоратор как класс, который считает вызовы функции\"\"\"\n",
    "    def __init__(self, func):\n",
    "        self.func = func\n",
    "        self.num_calls = 0\n",
    "        wraps(func)(self)  # Сохраняем метаданные\n",
    "\n",
    "    def __call__(self, *args, **kwargs):\n",
    "        self.num_calls += 1\n",
    "        print(f\"Вызов #{self.num_calls} функции {self.func.__name__}\")\n",
    "        return self.func(*args, **kwargs)\n",
    "\n",
    "@CountCalls\n",
    "def say_hello():\n",
    "    print(\"Hello!\")\n",
    "\n",
    "say_hello()  # Вызов #1 функции say_hello\n",
    "say_hello()  # Вызов #2 функции say_hello\n",
    "print(f\"Всего вызовов: {say_hello.num_calls}\")  # 2"
   ]
  }
 ],
 "metadata": {
  "kernelspec": {
   "display_name": "mentoring (3.12.8)",
   "language": "python",
   "name": "python3"
  },
  "language_info": {
   "name": "python",
   "version": "3.12.8"
  }
 },
 "nbformat": 4,
 "nbformat_minor": 5
}
