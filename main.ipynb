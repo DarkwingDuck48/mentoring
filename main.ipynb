{
 "cells": [
  {
   "cell_type": "markdown",
   "id": "632f65af",
   "metadata": {},
   "source": [
    "# Yield функции"
   ]
  },
  {
   "cell_type": "code",
   "execution_count": 3,
   "id": "0b0f1529",
   "metadata": {},
   "outputs": [
    {
     "name": "stdout",
     "output_type": "stream",
     "text": [
      "0\n",
      "1\n"
     ]
    }
   ],
   "source": [
    "\n",
    "def base_yield_func(n):\n",
    "    for i in range(n):\n",
    "        yield i\n",
    "\n",
    "\n",
    "func_generator = base_yield_func(10)\n",
    "\n",
    "print(f\"{next(func_generator)}\")\n",
    "print(f\"{next(func_generator)}\")\n"
   ]
  },
  {
   "cell_type": "code",
   "execution_count": null,
   "id": "e905dd50",
   "metadata": {},
   "outputs": [],
   "source": [
    "def yield_some_object(name):\n",
    "    print(\"From yield_some_object\")\n",
    "    yield name\n",
    "    print(\"After yield\")\n",
    "    yield f\"{name} - good!\"\n",
    "\n",
    "x = yield_some_object(\"John\")\n",
    "print(f\"{next(x)}\")\n",
    "\n",
    "print(\"===================\")\n",
    "\n",
    "try:\n",
    "    print(f\"{next(x)}\")\n",
    "except StopIteration:\n",
    "    print(\"No Values in x\")\n",
    "\n",
    "\n",
    "print(f\"{next(x, None)}\")\n",
    "\n",
    "print(\"1234\")"
   ]
  }
 ],
 "metadata": {
  "language_info": {
   "name": "python"
  }
 },
 "nbformat": 4,
 "nbformat_minor": 5
}
